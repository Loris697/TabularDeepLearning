{
 "cells": [
  {
   "cell_type": "code",
   "execution_count": 5,
   "id": "9e5837a3-dec0-47eb-9e6e-e01c328dcdc4",
   "metadata": {},
   "outputs": [],
   "source": [
    "import sys\n",
    "sys.path.insert(0, \"tabzilla\\TabZilla\")"
   ]
  },
  {
   "cell_type": "code",
   "execution_count": 10,
   "id": "edd5dd27-a9cf-4f7b-88dd-7fb2579a4f97",
   "metadata": {},
   "outputs": [
    {
     "name": "stdout",
     "output_type": "stream",
     "text": [
      "openml__california__361089              | Found existing folder. Skipping.\n"
     ]
    }
   ],
   "source": [
    "from tabzilla_data_preprocessing import preprocess_dataset\n",
    "from tabzilla_datasets import TabularDataset\n",
    "from pathlib import Path\n",
    "\n",
    "dataset = preprocess_dataset(\"openml__california__361089\", overwrite=False)"
   ]
  },
  {
   "cell_type": "code",
   "execution_count": 16,
   "id": "afde0cb9-2180-42dc-a82c-eb90ceb80095",
   "metadata": {},
   "outputs": [
    {
     "data": {
      "text/plain": [
       "['X',\n",
       " '__class__',\n",
       " '__delattr__',\n",
       " '__dict__',\n",
       " '__dir__',\n",
       " '__doc__',\n",
       " '__eq__',\n",
       " '__format__',\n",
       " '__ge__',\n",
       " '__getattribute__',\n",
       " '__getstate__',\n",
       " '__gt__',\n",
       " '__hash__',\n",
       " '__init__',\n",
       " '__init_subclass__',\n",
       " '__le__',\n",
       " '__lt__',\n",
       " '__module__',\n",
       " '__ne__',\n",
       " '__new__',\n",
       " '__reduce__',\n",
       " '__reduce_ex__',\n",
       " '__repr__',\n",
       " '__setattr__',\n",
       " '__sizeof__',\n",
       " '__str__',\n",
       " '__subclasshook__',\n",
       " '__weakref__',\n",
       " 'cat_dims',\n",
       " 'cat_feature_encode',\n",
       " 'cat_idx',\n",
       " 'get_metadata',\n",
       " 'name',\n",
       " 'num_classes',\n",
       " 'num_features',\n",
       " 'num_instances',\n",
       " 'read',\n",
       " 'split_indeces',\n",
       " 'split_source',\n",
       " 'target_encode',\n",
       " 'target_type',\n",
       " 'write',\n",
       " 'y']"
      ]
     },
     "execution_count": 16,
     "metadata": {},
     "output_type": "execute_result"
    }
   ],
   "source": [
    "california = TabularDataset.read(dataset)\n",
    "dir(california)"
   ]
  },
  {
   "cell_type": "code",
   "execution_count": 19,
   "id": "28bd0e76-1447-4618-9095-a212c8396f98",
   "metadata": {},
   "outputs": [
    {
     "data": {
      "text/plain": [
       "[]"
      ]
     },
     "execution_count": 19,
     "metadata": {},
     "output_type": "execute_result"
    }
   ],
   "source": [
    "california.cat_idx"
   ]
  },
  {
   "cell_type": "code",
   "execution_count": null,
   "id": "396d6368-e708-4279-8569-ec926228c9d5",
   "metadata": {},
   "outputs": [],
   "source": []
  }
 ],
 "metadata": {
  "kernelspec": {
   "display_name": "Python 3",
   "language": "python",
   "name": "python3"
  },
  "language_info": {
   "codemirror_mode": {
    "name": "ipython",
    "version": 3
   },
   "file_extension": ".py",
   "mimetype": "text/x-python",
   "name": "python",
   "nbconvert_exporter": "python",
   "pygments_lexer": "ipython3",
   "version": "3.11.7"
  }
 },
 "nbformat": 4,
 "nbformat_minor": 5
}
